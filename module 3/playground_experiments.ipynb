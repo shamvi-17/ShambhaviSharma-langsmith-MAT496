{
 "cells": [
  {
   "cell_type": "code",
   "execution_count": 20,
   "id": "ce3a6ef8",
   "metadata": {},
   "outputs": [],
   "source": [
    "import os\n",
    "os.environ[\"LANGSMITH_API_KEY\"] = \"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\""
   ]
  },
  {
   "cell_type": "code",
   "execution_count": 22,
   "id": "10a68476",
   "metadata": {},
   "outputs": [
    {
     "name": "stdout",
     "output_type": "stream",
     "text": [
      "Using existing dataset: Sample Questions\n"
     ]
    },
    {
     "data": {
      "text/plain": [
       "{'example_ids': ['43f383c4-5a3a-4bc4-988e-63522d8110d3',\n",
       "  'd878f5b6-2d1f-4fdf-adf7-705b76e88ea7',\n",
       "  '3235c136-e2be-46eb-acbd-caee733fda3b',\n",
       "  '35240ffc-a884-405c-86dd-3d249bffc416',\n",
       "  '4e0c1242-c4be-4373-af1f-533631861328'],\n",
       " 'count': 5}"
      ]
     },
     "execution_count": 22,
     "metadata": {},
     "output_type": "execute_result"
    }
   ],
   "source": [
    "from langsmith import Client\n",
    "from dotenv import load_dotenv\n",
    "\n",
    "load_dotenv()\n",
    "\n",
    "client = Client()\n",
    "dataset_name = \"Sample Questions\"\n",
    "\n",
    "# Try to get existing dataset; if not found, create it\n",
    "try:\n",
    "    dataset = client.read_dataset(dataset_name=dataset_name)\n",
    "    print(f\"Using existing dataset: {dataset.name}\")\n",
    "except Exception:\n",
    "    dataset = client.create_dataset(\n",
    "        dataset_name=dataset_name,\n",
    "        description=\"Sample questions about color\",\n",
    "    )\n",
    "    print(f\"Created new dataset: Microcontroller Fundamentals\")\n",
    "\n",
    "example_inputs = [\n",
    "    (\"What is a microcontroller?\", \"A microcontroller is a compact integrated circuit designed to control specific operations in an embedded system.\"),\n",
    "    (\"Which microcontroller is used in Arduino Uno?\", \"The Arduino Uno uses the ATmega328P microcontroller.\"),\n",
    "    (\"What is the difference between RAM and ROM?\", \"RAM is temporary memory; ROM is permanent memory that stores the program.\"),\n",
    "    (\"What is the use of GPIO pins?\", \"GPIO pins are used for general-purpose input and output operations.\"),\n",
    "    (\"What is the function of the clock signal in a microcontroller?\", \"It synchronizes all internal operations by providing timing reference.\")\n",
    "]\n",
    "\n",
    "inputs = [{\"question\": q} for q, _ in example_inputs]\n",
    "outputs = [{\"output\": a} for _, a in example_inputs]\n",
    "\n",
    "client.create_examples(\n",
    "    inputs=inputs,\n",
    "    outputs=outputs,\n",
    "    dataset_id=dataset.id,\n",
    ")"
   ]
  }
 ],
 "metadata": {
  "kernelspec": {
   "display_name": "Python 3",
   "language": "python",
   "name": "python3"
  },
  "language_info": {
   "codemirror_mode": {
    "name": "ipython",
    "version": 3
   },
   "file_extension": ".py",
   "mimetype": "text/x-python",
   "name": "python",
   "nbconvert_exporter": "python",
   "pygments_lexer": "ipython3",
   "version": "3.12.5"
  }
 },
 "nbformat": 4,
 "nbformat_minor": 5
}
