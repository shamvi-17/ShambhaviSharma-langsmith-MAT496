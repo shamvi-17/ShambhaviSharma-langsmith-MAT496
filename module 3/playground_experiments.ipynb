{
 "cells": [
  {
   "cell_type": "code",
   "execution_count": 1,
   "id": "ce3a6ef8",
   "metadata": {},
   "outputs": [
    {
     "data": {
      "text/plain": [
       "True"
      ]
     },
     "execution_count": 1,
     "metadata": {},
     "output_type": "execute_result"
    }
   ],
   "source": [
    "from dotenv import load_dotenv\n",
    "load_dotenv()  # auto-detects .env in current or parent dirs\""
   ]
  },
  {
   "cell_type": "code",
   "execution_count": 2,
   "id": "10a68476",
   "metadata": {},
   "outputs": [
    {
     "name": "stdout",
     "output_type": "stream",
     "text": [
      "Created new dataset: Microcontroller Fundamentals\n"
     ]
    },
    {
     "data": {
      "text/plain": [
       "{'example_ids': ['7271a31b-61ae-49e7-928a-08c432693729',\n",
       "  'b1d3b839-ed4f-41a8-9ae5-44520daec3c9',\n",
       "  'cc7b2fa0-e7a3-46bc-a61f-72c3bc1f5aac',\n",
       "  '2f14b312-9892-4b0d-ba0e-4642f363dfd6',\n",
       "  'd8e41cec-94a2-41dc-8345-2f382dc33b9d'],\n",
       " 'count': 5}"
      ]
     },
     "execution_count": 2,
     "metadata": {},
     "output_type": "execute_result"
    }
   ],
   "source": [
    "from langsmith import Client\n",
    "from dotenv import load_dotenv\n",
    "\n",
    "load_dotenv()\n",
    "\n",
    "client = Client()\n",
    "dataset_name = \"Sample Questions\"\n",
    "\n",
    "# Try to get existing dataset; if not found, create it\n",
    "try:\n",
    "    dataset = client.read_dataset(dataset_name=dataset_name)\n",
    "    print(f\"Using existing dataset: {dataset.name}\")\n",
    "except Exception:\n",
    "    dataset = client.create_dataset(\n",
    "        dataset_name=dataset_name,\n",
    "        description=\"Sample questions about color\",\n",
    "    )\n",
    "    print(f\"Created new dataset: Microcontroller Fundamentals\")\n",
    "\n",
    "example_inputs = [\n",
    "    (\"What is a microcontroller?\", \"A microcontroller is a compact integrated circuit designed to control specific operations in an embedded system.\"),\n",
    "    (\"Which microcontroller is used in Arduino Uno?\", \"The Arduino Uno uses the ATmega328P microcontroller.\"),\n",
    "    (\"What is the difference between RAM and ROM?\", \"RAM is temporary memory; ROM is permanent memory that stores the program.\"),\n",
    "    (\"What is the use of GPIO pins?\", \"GPIO pins are used for general-purpose input and output operations.\"),\n",
    "    (\"What is the function of the clock signal in a microcontroller?\", \"It synchronizes all internal operations by providing timing reference.\")\n",
    "]\n",
    "\n",
    "inputs = [{\"question\": q} for q, _ in example_inputs]\n",
    "outputs = [{\"output\": a} for _, a in example_inputs]\n",
    "\n",
    "client.create_examples(\n",
    "    inputs=inputs,\n",
    "    outputs=outputs,\n",
    "    dataset_id=dataset.id,\n",
    ")"
   ]
  }
 ],
 "metadata": {
  "kernelspec": {
   "display_name": "Python 3",
   "language": "python",
   "name": "python3"
  },
  "language_info": {
   "codemirror_mode": {
    "name": "ipython",
    "version": 3
   },
   "file_extension": ".py",
   "mimetype": "text/x-python",
   "name": "python",
   "nbconvert_exporter": "python",
   "pygments_lexer": "ipython3",
   "version": "3.12.5"
  }
 },
 "nbformat": 4,
 "nbformat_minor": 5
}
